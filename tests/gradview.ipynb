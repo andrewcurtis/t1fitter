{
 "cells": [
  {
   "cell_type": "code",
   "execution_count": 1,
   "metadata": {
    "collapsed": false
   },
   "outputs": [
    {
     "name": "stdout",
     "output_type": "stream",
     "text": [
      "Populating the interactive namespace from numpy and matplotlib\n"
     ]
    }
   ],
   "source": [
    "%pylab inline\n",
    "import sys\n",
    "sys.path.append('/home/acurtis/proj/t1fitter/t1fitter/')\n",
    "import t1fitter\n",
    "import util\n",
    "import optim\n",
    "\n",
    "import scipy\n",
    "import numpy as np\n",
    "\n"
   ]
  },
  {
   "cell_type": "code",
   "execution_count": 46,
   "metadata": {
    "collapsed": false
   },
   "outputs": [],
   "source": [
    "fitter = t1fitter.T1Fitter()\n",
    "\n",
    "#make some small fake data so we can test gradients\n",
    "\n",
    "sz = (14,14,12)\n",
    "\n",
    "dat = np.ones(sz + (2,))\n",
    "\n",
    "dat[2:6,:,:,0] = 1.5\n",
    "dat[6:-2,:,:,0] = 2\n",
    "\n",
    "dat[2:6,:,:,1] = 2\n",
    "dat[6:-2,:,:,1] = 2\n",
    "\n",
    "dat[:,6:-2,...] *= 0.5\n",
    "\n",
    "dat[:,:,2:6,:] *= 2\n",
    "\n",
    "dat = dat.transpose((3,0,1,2))\n",
    "\n",
    "\n",
    "b1 = np.ones(sz)\n",
    "mask = np.zeros_like(b1)\n",
    "\n",
    "ms=3\n",
    "mask[ms:-ms,ms:-ms,ms:-ms] = 1"
   ]
  },
  {
   "cell_type": "code",
   "execution_count": 47,
   "metadata": {
    "collapsed": false
   },
   "outputs": [
    {
     "name": "stdout",
     "output_type": "stream",
     "text": [
      "(14, 14, 12)\n",
      "(14, 14, 12)\n",
      "384.0\n",
      "(2, 2352)\n",
      "(14, 14, 12, 2)\n",
      "1447.41169386\n",
      "2215.41169386\n"
     ]
    }
   ],
   "source": [
    "fitter.data = dat\n",
    "fitter.mask = mask\n",
    "fitter.b1map = b1\n",
    "fitter.volshape = list(sz)\n",
    "\n",
    "fitter.l1_lam = 1.0\n",
    "fitter.kern_sz = 2\n",
    "fitter.huber_scale = 0.5\n",
    "fitter.l1_mode = 'huber'\n",
    "\n",
    "fitter.l2_lam = 0\n",
    "fitter.outpath='.'\n",
    "fitter.smooth=1\n",
    "fitter.l2_mode = 'smooth_vfa'\n",
    "fitter.start_mode = 'vfa'\n",
    "fitter.fit_method='nlreg'\n",
    "fitter.log.setLevel(0)\n",
    "\n",
    "fitter.flips = np.array([14.0, 3.0])*np.pi/180.0\n",
    "fitter.trs = np.array([10.0, 10.0])*1e-3\n",
    "\n",
    "\n",
    "x0 = fitter.nlreg_fit(prep_only=True)\n",
    "\n",
    "# get t1 optimizer instance once everything is prepped\n",
    "tfit = fitter.tfit\n",
    "\n",
    "\n",
    "print (b1.shape)\n",
    "print (mask.shape)\n",
    "print np.sum(mask)\n",
    "print (dat.shape)\n",
    "print (x0.shape)\n",
    "\n",
    "bounds = np.array([[0.001,0.01],[20.0,8.0]])\n",
    "\n",
    "tfit.run_fit(x0, bounds=bounds, prep_only=True)\n",
    "\n",
    "tfit.obj_scale = 0.0\n",
    "\n",
    "print (np.sum(tfit.x0))\n",
    "\n",
    "tfit.x0 += 1\n",
    "print (np.sum(tfit.x0))\n",
    "\n"
   ]
  },
  {
   "cell_type": "code",
   "execution_count": 48,
   "metadata": {
    "collapsed": true
   },
   "outputs": [],
   "source": [
    "def insertVol(x, dims=2):\n",
    "    vol = np.zeros(sz + (dims,))\n",
    "    vol[mask>0,:] = x.reshape(-1,dims)\n",
    "    return vol"
   ]
  },
  {
   "cell_type": "code",
   "execution_count": 49,
   "metadata": {
    "collapsed": false
   },
   "outputs": [],
   "source": [
    "myx = tfit.x0*0.5\n",
    "gres = tfit.gradient(myx).reshape(-1,2)\n",
    "gv = insertVol(gres)"
   ]
  },
  {
   "cell_type": "code",
   "execution_count": 50,
   "metadata": {
    "collapsed": false
   },
   "outputs": [],
   "source": [
    "#check close to data\n",
    "myx = myx - 0.5*gres.ravel()\n",
    "gres = tfit.gradient(myx).reshape(-1,2)\n",
    "gv = insertVol(gres)"
   ]
  },
  {
   "cell_type": "code",
   "execution_count": 51,
   "metadata": {
    "collapsed": false
   },
   "outputs": [
    {
     "data": {
      "text/plain": [
       "43.144808194313924"
      ]
     },
     "execution_count": 51,
     "metadata": {},
     "output_type": "execute_result"
    }
   ],
   "source": [
    "tfit.objective(myx)"
   ]
  },
  {
   "cell_type": "code",
   "execution_count": 52,
   "metadata": {
    "collapsed": true
   },
   "outputs": [],
   "source": [
    "vx0 = fitter.fit.copy().reshape(sz+(2,))"
   ]
  },
  {
   "cell_type": "code",
   "execution_count": 53,
   "metadata": {
    "collapsed": false
   },
   "outputs": [],
   "source": [
    "vx0 = x0.copy().reshape(sz+(2,))*0.50"
   ]
  },
  {
   "cell_type": "code",
   "execution_count": 54,
   "metadata": {
    "collapsed": false
   },
   "outputs": [
    {
     "data": {
      "text/plain": [
       "<matplotlib.colorbar.Colorbar instance at 0x7f6994226f80>"
      ]
     },
     "execution_count": 54,
     "metadata": {},
     "output_type": "execute_result"
    },
    {
     "data": {
      "image/png": "[encoded data removed]",
      "text/plain": [
       "<matplotlib.figure.Figure at 0x7f6985ae8110>"
      ]
     },
     "metadata": {},
     "output_type": "display_data"
    }
   ],
   "source": [
    "matshow(gv[:,:,6,0])\n",
    "colorbar()"
   ]
  },
  {
   "cell_type": "code",
   "execution_count": 55,
   "metadata": {
    "collapsed": false
   },
   "outputs": [],
   "source": [
    "myx = tfit.x0*0.5\n",
    "gtest = tfit.gradient(myx)\n",
    "szg = gtest.shape\n",
    "gv = insertVol(gtest.reshape(-1,2))\n"
   ]
  },
  {
   "cell_type": "code",
   "execution_count": 56,
   "metadata": {
    "collapsed": false
   },
   "outputs": [
    {
     "data": {
      "text/plain": [
       "2.8033167151486733"
      ]
     },
     "execution_count": 56,
     "metadata": {},
     "output_type": "execute_result"
    }
   ],
   "source": [
    "sum(gv**2)"
   ]
  },
  {
   "cell_type": "code",
   "execution_count": 57,
   "metadata": {
    "collapsed": false
   },
   "outputs": [],
   "source": [
    "eps = 1e-7\n",
    "gnum = np.zeros(szg)\n",
    "for x in arange(szg[0]):\n",
    "    myx2 = myx.copy()\n",
    "    myx2[x] += eps\n",
    "    f1 = tfit.objective(myx)\n",
    "    f2 = tfit.objective(myx2)\n",
    "    gnum[x] = (f2-f1)/eps\n",
    "    \n",
    "gvn = insertVol(gnum.reshape(-1,2))\n"
   ]
  },
  {
   "cell_type": "code",
   "execution_count": 58,
   "metadata": {
    "collapsed": false
   },
   "outputs": [
    {
     "data": {
      "text/plain": [
       "<matplotlib.colorbar.Colorbar instance at 0x7f699455e950>"
      ]
     },
     "execution_count": 58,
     "metadata": {},
     "output_type": "execute_result"
    },
    {
     "data": {
      "image/png": "[encoded data removed]",
      "text/plain": [
       "<matplotlib.figure.Figure at 0x7f6985d45bd0>"
      ]
     },
     "metadata": {},
     "output_type": "display_data"
    }
   ],
   "source": [
    "imshow((gvn[:,:,7,0] - gv[:,:,7,0]))\n",
    "#clim([0,1])\n",
    "colorbar()"
   ]
  },
  {
   "cell_type": "code",
   "execution_count": 59,
   "metadata": {
    "collapsed": false
   },
   "outputs": [
    {
     "data": {
      "text/plain": [
       "0.075941672543496597"
      ]
     },
     "execution_count": 59,
     "metadata": {},
     "output_type": "execute_result"
    }
   ],
   "source": [
    "(sum((gvn -gv)**2))"
   ]
  },
  {
   "cell_type": "code",
   "execution_count": 60,
   "metadata": {
    "collapsed": false
   },
   "outputs": [
    {
     "data": {
      "text/plain": [
       "<matplotlib.colorbar.Colorbar instance at 0x7f69943ae950>"
      ]
     },
     "execution_count": 60,
     "metadata": {},
     "output_type": "execute_result"
    },
    {
     "data": {
      "image/png": "[encoded data removed]",
      "text/plain": [
       "<matplotlib.figure.Figure at 0x7f6994514410>"
      ]
     },
     "metadata": {},
     "output_type": "display_data"
    },
    {
     "data": {
      "image/png": "[encoded data removed]",
      "text/plain": [
       "<matplotlib.figure.Figure at 0x7f69944d8350>"
      ]
     },
     "metadata": {},
     "output_type": "display_data"
    }
   ],
   "source": [
    "matshow((gvn[:,:,7,0]))\n",
    "colorbar()\n",
    "matshow((gv[:,:,7,0]))\n",
    "colorbar()\n"
   ]
  },
  {
   "cell_type": "code",
   "execution_count": 61,
   "metadata": {
    "collapsed": false
   },
   "outputs": [
    {
     "data": {
      "text/plain": [
       "<matplotlib.colorbar.Colorbar instance at 0x7f6994510e18>"
      ]
     },
     "execution_count": 61,
     "metadata": {},
     "output_type": "execute_result"
    },
    {
     "data": {
      "image/png": "[encoded data removed]",
      "text/plain": [
       "<matplotlib.figure.Figure at 0x7f6985e4d690>"
      ]
     },
     "metadata": {},
     "output_type": "display_data"
    },
    {
     "data": {
      "image/png": "[encoded data removed]",
      "text/plain": [
       "<matplotlib.figure.Figure at 0x7f6985ce82d0>"
      ]
     },
     "metadata": {},
     "output_type": "display_data"
    }
   ],
   "source": [
    "matshow((gvn[:,:,7,1]))\n",
    "colorbar()\n",
    "matshow((gv[:,:,7,1]))\n",
    "colorbar()\n"
   ]
  },
  {
   "cell_type": "code",
   "execution_count": 62,
   "metadata": {
    "collapsed": false
   },
   "outputs": [
    {
     "name": "stderr",
     "output_type": "stream",
     "text": [
      "/home/acurtis/anaconda/lib/python2.7/site-packages/IPython/kernel/__main__.py:1: RuntimeWarning: invalid value encountered in divide\n",
      "  if __name__ == '__main__':\n"
     ]
    },
    {
     "data": {
      "image/png": "[encoded data removed]",
      "text/plain": [
       "<matplotlib.figure.Figure at 0x7f69947e6c50>"
      ]
     },
     "metadata": {},
     "output_type": "display_data"
    }
   ],
   "source": [
    "matshow((gvn[:,:,7,0])/(gv[:,:,7,0]))\n",
    "colorbar()\n",
    "clim([-1.0,5.5])"
   ]
  },
  {
   "cell_type": "code",
   "execution_count": null,
   "metadata": {
    "collapsed": false
   },
   "outputs": [],
   "source": []
  },
  {
   "cell_type": "code",
   "execution_count": 63,
   "metadata": {
    "collapsed": false
   },
   "outputs": [
    {
     "name": "stderr",
     "output_type": "stream",
     "text": [
      "/home/acurtis/anaconda/lib/python2.7/site-packages/IPython/kernel/__main__.py:1: RuntimeWarning: invalid value encountered in divide\n",
      "  if __name__ == '__main__':\n"
     ]
    },
    {
     "data": {
      "text/plain": [
       "0.99999861156667424"
      ]
     },
     "execution_count": 63,
     "metadata": {},
     "output_type": "execute_result"
    }
   ],
   "source": [
    "(gvn[:,:,7,1]/gv[:,:,7,1] ) [6,6]"
   ]
  },
  {
   "cell_type": "code",
   "execution_count": 64,
   "metadata": {
    "collapsed": false
   },
   "outputs": [
    {
     "data": {
      "text/plain": [
       "-0.09808402978705999"
      ]
     },
     "execution_count": 64,
     "metadata": {},
     "output_type": "execute_result"
    }
   ],
   "source": [
    "gvn[6,6,6,0]"
   ]
  },
  {
   "cell_type": "code",
   "execution_count": 65,
   "metadata": {
    "collapsed": false
   },
   "outputs": [
    {
     "data": {
      "text/plain": [
       "-0.098084160209029311"
      ]
     },
     "execution_count": 65,
     "metadata": {},
     "output_type": "execute_result"
    }
   ],
   "source": [
    "gv[6,6,6,0]"
   ]
  },
  {
   "cell_type": "code",
   "execution_count": 66,
   "metadata": {
    "collapsed": false
   },
   "outputs": [
    {
     "data": {
      "text/plain": [
       "-0.046002881504136894"
      ]
     },
     "execution_count": 66,
     "metadata": {},
     "output_type": "execute_result"
    }
   ],
   "source": [
    "gvn[6,6,6,1]"
   ]
  },
  {
   "cell_type": "code",
   "execution_count": 67,
   "metadata": {
    "collapsed": false
   },
   "outputs": [
    {
     "data": {
      "text/plain": [
       "-0.046002889098828631"
      ]
     },
     "execution_count": 67,
     "metadata": {},
     "output_type": "execute_result"
    }
   ],
   "source": [
    "gv[6,6,6,1]"
   ]
  },
  {
   "cell_type": "code",
   "execution_count": null,
   "metadata": {
    "collapsed": true
   },
   "outputs": [],
   "source": []
  }
 ],
 "metadata": {
  "kernelspec": {
   "display_name": "Python 2",
   "language": "python",
   "name": "python2"
  },
  "language_info": {
   "codemirror_mode": {
    "name": "ipython",
    "version": 2
   },
   "file_extension": ".py",
   "mimetype": "text/x-python",
   "name": "python",
   "nbconvert_exporter": "python",
   "pygments_lexer": "ipython2",
   "version": "2.7.10"
  }
 },
 "nbformat": 4,
 "nbformat_minor": 0
}
